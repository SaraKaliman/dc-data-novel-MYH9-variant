{
 "cells": [
  {
   "cell_type": "markdown",
   "id": "da0bd17a",
   "metadata": {},
   "source": [
    "<h2> Save measures that characterise distribution of cell features for each cell type </h2>\n",
    "\n",
    "<h4> Input: </h4> csv file with cell features for all cells.\n",
    "<p> <h4> Output: </h4> xlsx file with median, mean, std of cell features per cell type </h3>"
   ]
  },
  {
   "cell_type": "code",
   "execution_count": 1,
   "id": "e3579768",
   "metadata": {},
   "outputs": [],
   "source": [
    "import pandas as pd\n",
    "import numpy as np\n",
    "from pathlib import Path\n",
    "import os\n",
    "import ipyparallel as ipp"
   ]
  },
  {
   "cell_type": "markdown",
   "id": "09d53753",
   "metadata": {},
   "source": [
    "Define which group of measurments you want to analyse: controls, patients"
   ]
  },
  {
   "cell_type": "code",
   "execution_count": 2,
   "id": "e98f20d9",
   "metadata": {},
   "outputs": [],
   "source": [
    "Group = \"patients\"\n",
    "Folder = Path(r\"D:\\Other Backup\\Myh9 project\\raw data csv\")\n",
    "Data_folder = Folder / Group\n",
    "fnames = os.listdir(Data_folder)\n",
    "# print(fnames)"
   ]
  },
  {
   "cell_type": "code",
   "execution_count": 3,
   "id": "927eb7bd",
   "metadata": {},
   "outputs": [],
   "source": [
    "def take_info_from_data_frames(Folder, fname):\n",
    "\n",
    "    import pandas as pd\n",
    "    import numpy as np\n",
    "    import pathlib\n",
    "    import warnings\n",
    "    import dclab\n",
    "    from scipy.stats import skew\n",
    "\n",
    "    warnings.simplefilter(action='ignore', category=pd.errors.PerformanceWarning)\n",
    "\n",
    "    # this a PerformanceWarning I am silecing:\n",
    "    # PerformanceWarning: DataFrame is highly fragmented.  This is usually the result of calling `frame.insert` many times, which has poor performance.  \n",
    "    # Consider joining all columns at once using pd.concat(axis=1) instead. To get a de-fragmented frame, use `newframe = frame.copy()`\n",
    "    # df_summary[\"Inertia Ratio \" + cell_type + \" median\"] = df[\"convex inertia ratio\"][cells].median()\n",
    "    sample = fname.split(\".\")[0]\n",
    "    cell_type = sample.split(\"_\")[-1]\n",
    "    df_summary = pd.DataFrame(index = [cell_type])\n",
    "\n",
    "    def add_features_to_summary(df_cell_type, df, cell_type, sample):\n",
    "        df[\"file name\"] = sample\n",
    "        df[\"cell type\"] = cell_type\n",
    "        df[\"cell count\"] = df_cell_type.count()[1]\n",
    "        \n",
    "        if \"low porosity\" in cell_type:\n",
    "            cell_name = cell_type.split(\" \")[-1]\n",
    "        else:\n",
    "            cell_name = cell_type\n",
    "\n",
    "        df[\"Area median\"] = df_cell_type[\"Area \" + cell_name].median()\n",
    "        df[\"Area mean\"] = df_cell_type[\"Area \" + cell_name].mean()\n",
    "        df[\"Area std\"] = df_cell_type[\"Area \" + cell_name].std()\n",
    "\n",
    "        df[\"Deformation median\"] = df_cell_type[\"Deformation \" + cell_name].median()\n",
    "        df[\"Deformation mean\"] = df_cell_type[\"Deformation \" + cell_name].mean()\n",
    "        df[\"Deformation std\"] = df_cell_type[\"Deformation \" + cell_name].std()\n",
    "\n",
    "        df[\"Inertia ratio median\"] = df_cell_type[\"Inertia ratio \" + cell_name].median()\n",
    "        df[\"Inertia ratio mean\"] = df_cell_type[\"Inertia ratio \" + cell_name].mean()\n",
    "        df[\"Inertia ratio std\"] = df_cell_type[\"Inertia ratio \" + cell_name].std()\n",
    "\n",
    "        df[\"Porosity median\"] = df_cell_type[\"Porosity \" + cell_name].median()\n",
    "        df[\"Porosity mean\"] = df_cell_type[\"Porosity \" + cell_name].mean()\n",
    "        df[\"Porosity std\"] = df_cell_type[\"Porosity \" + cell_name].std()\n",
    "\n",
    "        return df    \n",
    "    \n",
    "    # read data and summarize results\n",
    "    print(fname)\n",
    "    df_cell_type = pd.read_csv(Folder / fname)\n",
    "    add_features_to_summary(df_cell_type, df_summary, cell_type, sample)\n",
    "\n",
    "    if cell_type == \"Neutrophils\":\n",
    "        df_cell_type = df_cell_type[df_cell_type[\"Porosity \" + cell_type] < 1.05].copy()\n",
    "        cell_type = \"low porosity Neutrophils\"\n",
    "        df_summary2 = pd.DataFrame(index = [cell_type])\n",
    "        add_features_to_summary(df_cell_type, df_summary2, cell_type, sample)\n",
    "        df_summary = pd.concat([df_summary, df_summary2])\n",
    "\n",
    "    if cell_type == \"Lymphocytes\":\n",
    "        df_cell_type = df_cell_type[df_cell_type[\"Porosity \" + cell_type] < 1.05].copy()\n",
    "        cell_type = \"low porosity Lymphocytes\"\n",
    "        df_summary2 = pd.DataFrame(index = [cell_type])\n",
    "        add_features_to_summary(df_cell_type, df_summary2, cell_type, sample)\n",
    "        df_summary = pd.concat([df_summary, df_summary2])\n",
    "\n",
    "    return df_summary\n"
   ]
  },
  {
   "cell_type": "code",
   "execution_count": 4,
   "id": "fdd2db42",
   "metadata": {},
   "outputs": [
    {
     "name": "stdout",
     "output_type": "stream",
     "text": [
      "D:\\Other Backup\\Myh9 project\\raw data csv\\patients\n"
     ]
    }
   ],
   "source": [
    "print(Data_folder)\n",
    "os.chdir(Data_folder)"
   ]
  },
  {
   "cell_type": "code",
   "execution_count": 5,
   "id": "e58f4a67",
   "metadata": {},
   "outputs": [
    {
     "name": "stdout",
     "output_type": "stream",
     "text": [
      "Starting 3 engines with <class 'ipyparallel.cluster.launcher.LocalEngineSetLauncher'>\n"
     ]
    },
    {
     "data": {
      "application/vnd.jupyter.widget-view+json": {
       "model_id": "4a904f3493024820a04b59aa6b9c35b1",
       "version_major": 2,
       "version_minor": 0
      },
      "text/plain": [
       "  0%|          | 0/3 [00:00<?, ?engine/s]"
      ]
     },
     "metadata": {},
     "output_type": "display_data"
    },
    {
     "data": {
      "application/vnd.jupyter.widget-view+json": {
       "model_id": "1b001debb3fa48798b918cc8045b73f5",
       "version_major": 2,
       "version_minor": 0
      },
      "text/plain": [
       "take_info_from_data_frames:   0%|          | 0/90 [00:00<?, ?tasks/s]"
      ]
     },
     "metadata": {},
     "output_type": "display_data"
    },
    {
     "name": "stdout",
     "output_type": "stream",
     "text": [
      "Stopping engine(s): 1749107425\n",
      "engine set stopped 1749107425: {'engines': {'0': {'exit_code': 1, 'pid': 14912, 'identifier': '0'}, '1': {'exit_code': 1, 'pid': 21384, 'identifier': '1'}, '2': {'exit_code': 1, 'pid': 9148, 'identifier': '2'}}, 'exit_code': 1}\n",
      "Stopping controller\n",
      "Controller stopped: {'exit_code': 1, 'pid': 7764, 'identifier': 'ipcontroller-1749107423-w8s6-5040'}\n"
     ]
    }
   ],
   "source": [
    "N = len(fnames)\n",
    "with ipp.Cluster(n=3) as rc:\n",
    "    view = rc.load_balanced_view()\n",
    "    asyncresult = view.map_async(take_info_from_data_frames, N*[Data_folder],\n",
    "                                 fnames)\n",
    "    asyncresult.wait_interactive()\n",
    "    result_mp = asyncresult.get()\n",
    "\n",
    "df_mp = result_mp[0].copy()\n",
    "for res in result_mp[1:]:\n",
    "    df_mp = pd.concat([df_mp, res])"
   ]
  },
  {
   "cell_type": "code",
   "execution_count": 6,
   "id": "cb856f7c",
   "metadata": {},
   "outputs": [
    {
     "data": {
      "text/html": [
       "<div>\n",
       "<style scoped>\n",
       "    .dataframe tbody tr th:only-of-type {\n",
       "        vertical-align: middle;\n",
       "    }\n",
       "\n",
       "    .dataframe tbody tr th {\n",
       "        vertical-align: top;\n",
       "    }\n",
       "\n",
       "    .dataframe thead th {\n",
       "        text-align: right;\n",
       "    }\n",
       "</style>\n",
       "<table border=\"1\" class=\"dataframe\">\n",
       "  <thead>\n",
       "    <tr style=\"text-align: right;\">\n",
       "      <th></th>\n",
       "      <th>file name</th>\n",
       "      <th>cell type</th>\n",
       "      <th>cell count</th>\n",
       "      <th>Area median</th>\n",
       "      <th>Area mean</th>\n",
       "      <th>Area std</th>\n",
       "      <th>Deformation median</th>\n",
       "      <th>Deformation mean</th>\n",
       "      <th>Deformation std</th>\n",
       "      <th>Inertia ratio median</th>\n",
       "      <th>Inertia ratio mean</th>\n",
       "      <th>Inertia ratio std</th>\n",
       "      <th>Porosity median</th>\n",
       "      <th>Porosity mean</th>\n",
       "      <th>Porosity std</th>\n",
       "    </tr>\n",
       "  </thead>\n",
       "  <tbody>\n",
       "    <tr>\n",
       "      <th>Erythrocytes</th>\n",
       "      <td>20240212_I2_1st_Erythrocytes</td>\n",
       "      <td>Erythrocytes</td>\n",
       "      <td>1299664</td>\n",
       "      <td>32.580541</td>\n",
       "      <td>32.998393</td>\n",
       "      <td>3.842383</td>\n",
       "      <td>0.333964</td>\n",
       "      <td>0.333185</td>\n",
       "      <td>0.024456</td>\n",
       "      <td>3.781276</td>\n",
       "      <td>3.796237</td>\n",
       "      <td>0.345796</td>\n",
       "      <td>1.082746</td>\n",
       "      <td>1.085155</td>\n",
       "      <td>0.020066</td>\n",
       "    </tr>\n",
       "    <tr>\n",
       "      <th>Lymphocytes</th>\n",
       "      <td>20240212_I2_1st_Lymphocytes</td>\n",
       "      <td>Lymphocytes</td>\n",
       "      <td>589</td>\n",
       "      <td>39.075001</td>\n",
       "      <td>39.138126</td>\n",
       "      <td>4.411570</td>\n",
       "      <td>0.082155</td>\n",
       "      <td>0.083441</td>\n",
       "      <td>0.015651</td>\n",
       "      <td>1.348592</td>\n",
       "      <td>1.351655</td>\n",
       "      <td>0.121083</td>\n",
       "      <td>1.031669</td>\n",
       "      <td>1.031782</td>\n",
       "      <td>0.007383</td>\n",
       "    </tr>\n",
       "    <tr>\n",
       "      <th>low porosity Lymphocytes</th>\n",
       "      <td>20240212_I2_1st_Lymphocytes</td>\n",
       "      <td>low porosity Lymphocytes</td>\n",
       "      <td>579</td>\n",
       "      <td>38.912639</td>\n",
       "      <td>39.088274</td>\n",
       "      <td>4.393319</td>\n",
       "      <td>0.082071</td>\n",
       "      <td>0.082847</td>\n",
       "      <td>0.014972</td>\n",
       "      <td>1.347337</td>\n",
       "      <td>1.351276</td>\n",
       "      <td>0.120696</td>\n",
       "      <td>1.031484</td>\n",
       "      <td>1.031413</td>\n",
       "      <td>0.006884</td>\n",
       "    </tr>\n",
       "    <tr>\n",
       "      <th>Neutrophils</th>\n",
       "      <td>20240212_I2_1st_Neutrophils</td>\n",
       "      <td>Neutrophils</td>\n",
       "      <td>534</td>\n",
       "      <td>64.322214</td>\n",
       "      <td>64.656768</td>\n",
       "      <td>5.418417</td>\n",
       "      <td>0.117821</td>\n",
       "      <td>0.128444</td>\n",
       "      <td>0.033611</td>\n",
       "      <td>1.700310</td>\n",
       "      <td>1.717356</td>\n",
       "      <td>0.145404</td>\n",
       "      <td>1.032245</td>\n",
       "      <td>1.037894</td>\n",
       "      <td>0.017746</td>\n",
       "    </tr>\n",
       "    <tr>\n",
       "      <th>low porosity Neutrophils</th>\n",
       "      <td>20240212_I2_1st_Neutrophils</td>\n",
       "      <td>low porosity Neutrophils</td>\n",
       "      <td>447</td>\n",
       "      <td>63.808070</td>\n",
       "      <td>64.088963</td>\n",
       "      <td>5.212401</td>\n",
       "      <td>0.114329</td>\n",
       "      <td>0.116395</td>\n",
       "      <td>0.016768</td>\n",
       "      <td>1.681367</td>\n",
       "      <td>1.694207</td>\n",
       "      <td>0.120854</td>\n",
       "      <td>1.030859</td>\n",
       "      <td>1.031311</td>\n",
       "      <td>0.006436</td>\n",
       "    </tr>\n",
       "  </tbody>\n",
       "</table>\n",
       "</div>"
      ],
      "text/plain": [
       "                                             file name  \\\n",
       "Erythrocytes              20240212_I2_1st_Erythrocytes   \n",
       "Lymphocytes                20240212_I2_1st_Lymphocytes   \n",
       "low porosity Lymphocytes   20240212_I2_1st_Lymphocytes   \n",
       "Neutrophils                20240212_I2_1st_Neutrophils   \n",
       "low porosity Neutrophils   20240212_I2_1st_Neutrophils   \n",
       "\n",
       "                                         cell type  cell count  Area median  \\\n",
       "Erythrocytes                          Erythrocytes     1299664    32.580541   \n",
       "Lymphocytes                            Lymphocytes         589    39.075001   \n",
       "low porosity Lymphocytes  low porosity Lymphocytes         579    38.912639   \n",
       "Neutrophils                            Neutrophils         534    64.322214   \n",
       "low porosity Neutrophils  low porosity Neutrophils         447    63.808070   \n",
       "\n",
       "                          Area mean  Area std  Deformation median  \\\n",
       "Erythrocytes              32.998393  3.842383            0.333964   \n",
       "Lymphocytes               39.138126  4.411570            0.082155   \n",
       "low porosity Lymphocytes  39.088274  4.393319            0.082071   \n",
       "Neutrophils               64.656768  5.418417            0.117821   \n",
       "low porosity Neutrophils  64.088963  5.212401            0.114329   \n",
       "\n",
       "                          Deformation mean  Deformation std  \\\n",
       "Erythrocytes                      0.333185         0.024456   \n",
       "Lymphocytes                       0.083441         0.015651   \n",
       "low porosity Lymphocytes          0.082847         0.014972   \n",
       "Neutrophils                       0.128444         0.033611   \n",
       "low porosity Neutrophils          0.116395         0.016768   \n",
       "\n",
       "                          Inertia ratio median  Inertia ratio mean  \\\n",
       "Erythrocytes                          3.781276            3.796237   \n",
       "Lymphocytes                           1.348592            1.351655   \n",
       "low porosity Lymphocytes              1.347337            1.351276   \n",
       "Neutrophils                           1.700310            1.717356   \n",
       "low porosity Neutrophils              1.681367            1.694207   \n",
       "\n",
       "                          Inertia ratio std  Porosity median  Porosity mean  \\\n",
       "Erythrocytes                       0.345796         1.082746       1.085155   \n",
       "Lymphocytes                        0.121083         1.031669       1.031782   \n",
       "low porosity Lymphocytes           0.120696         1.031484       1.031413   \n",
       "Neutrophils                        0.145404         1.032245       1.037894   \n",
       "low porosity Neutrophils           0.120854         1.030859       1.031311   \n",
       "\n",
       "                          Porosity std  \n",
       "Erythrocytes                  0.020066  \n",
       "Lymphocytes                   0.007383  \n",
       "low porosity Lymphocytes      0.006884  \n",
       "Neutrophils                   0.017746  \n",
       "low porosity Neutrophils      0.006436  "
      ]
     },
     "execution_count": 6,
     "metadata": {},
     "output_type": "execute_result"
    }
   ],
   "source": [
    "df_mp.head(n=5)"
   ]
  },
  {
   "cell_type": "code",
   "execution_count": 7,
   "id": "ce8af3eb",
   "metadata": {},
   "outputs": [],
   "source": [
    "file_name = Group + \"_summary_statistics.xlsx\"\n",
    "df_mp.to_excel(Folder / \"summary statistics\" / file_name)"
   ]
  },
  {
   "cell_type": "code",
   "execution_count": 8,
   "id": "a9a1fc01",
   "metadata": {},
   "outputs": [],
   "source": [
    "file_name = Group + \"_summary_statistics.csv\"\n",
    "df_mp.to_csv(Folder / file_name)"
   ]
  }
 ],
 "metadata": {
  "kernelspec": {
   "display_name": "Python 3 (ipykernel)",
   "language": "python",
   "name": "python3"
  },
  "language_info": {
   "codemirror_mode": {
    "name": "ipython",
    "version": 3
   },
   "file_extension": ".py",
   "mimetype": "text/x-python",
   "name": "python",
   "nbconvert_exporter": "python",
   "pygments_lexer": "ipython3",
   "version": "3.9.13"
  }
 },
 "nbformat": 4,
 "nbformat_minor": 5
}
